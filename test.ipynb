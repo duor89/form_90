{
 "cells": [
  {
   "cell_type": "code",
   "execution_count": 1,
   "metadata": {},
   "outputs": [],
   "source": [
    "from mapping import ReportMapper\n",
    "import numpy as np\n",
    "import pandas as pd\n",
    "import yaml\n",
    "from post_mapping import RT30RT32PostMapper, MISSRSPostMapper, RMDPostMapper\n",
    "\n",
    "%load_ext autoreload\n",
    "%autoreload 2"
   ]
  },
  {
   "cell_type": "code",
   "execution_count": 5,
   "metadata": {},
   "outputs": [
    {
     "name": "stdout",
     "output_type": "stream",
     "text": [
      "3.11.5\n"
     ]
    }
   ],
   "source": [
    "\n",
    "\n",
    "from platform import python_version\n",
    "\n",
    "print(python_version())"
   ]
  },
  {
   "cell_type": "code",
   "execution_count": null,
   "metadata": {},
   "outputs": [],
   "source": [
    "path = r'../data/1.BOCS ARF 731 working 30092024 Dummy Data - 副本.xlsx'\n",
    "\n",
    "na_values = ['-1.#IND', '1.#QNAN', '1.#IND', '-1.#QNAN', '#N/A N/A', '#N/A', 'N/A', 'n/a', '<NA>', '#NA', 'NULL', 'null', 'NaN', '-NaN', 'nan', '-nan', 'None', '']\n",
    "\n",
    "schema_dict = {\n",
    "        'deal_id':str,\n",
    "        'ide_linkage_ref':str,\n",
    "        'customer_nr':str,\n",
    "        'facility_nr':str,\n",
    "        'AP_CODE':str,\n",
    "        'SUB CODE':str,\n",
    "        'PROD_CODE':str,\n",
    "        'ide_sourcesys_ref':str,\n",
    "        'ide_linkage_type':str,\n",
    "        'nationality':str\n",
    "        }\n",
    "\n",
    "df_facility_sql = pd.read_excel(\n",
    "    path, \n",
    "    sheet_name='Facility', \n",
    "    dtype=schema_dict)[[\n",
    "    'entity', 'facility_nr', 'customer_nr', 'customer_legal_name',\n",
    "       'deal_type', 'currency', 'OBS amount', 'Counterparty type', 'Domicile',\n",
    "       'source_system']]\n",
    "    \n",
    "    \n",
    "df_rt30_sql = pd.read_excel(\n",
    "        path,\n",
    "        sheet_name='RT30_RT32',\n",
    "        dtype=schema_dict,\n",
    "        keep_default_na=False,\n",
    "        na_values=na_values\n",
    "    )[['ide_internal_party_ref', 'ide_linkage_ref', 'ide_linkage_type',\n",
    "        'ide_sourcesys_ref', 'lot_type_fk', 'rca_accrint', 'rca_bookv',\n",
    "        'rca_marketv', 'rca_prov_coll', 'rca_prov_indi', 'rv_coa',\n",
    "        'rv_cpty_type', 'rv_rel_party_type', 'rv_currency_sub_group',\n",
    "        'rv_mat_original', 'rv_mat_remaining.1', 'rca_deferred_fee',\n",
    "        'rca_mtm_negative', 'rca_mtm_positive', 'entity', 'deal_id',\n",
    "        'customer_nr.1', 'nationality', 'domicile', 'customer_legal_name',\n",
    "        'deal_type.1', 'currency.1', 'tfi_id', 'source_table', 'value_date',\n",
    "        'maturity_date', 'source_system']]\n",
    "    \n",
    "df_rt30_sql.columns = df_rt30_sql.columns.str.split('.').str[0]\n",
    "\n",
    "df_rmd = pd.read_excel(\n",
    "        path,\n",
    "        sheet_name='RMD',\n",
    "        dtype=schema_dict\n",
    "    )[['ide_linkage_ref', '本期最终风险承担国家 Ultimate risk-bearing countries', '上期最终风险承担国']]\n",
    "\n",
    "\n",
    "df_mis_srs = pd.read_excel(\n",
    "        path,\n",
    "        sheet_name='MIS-SRS',\n",
    "        dtype=schema_dict\n",
    "    )\n",
    "df_mis_srs.columns = df_mis_srs.columns.str.strip()\n",
    "\n",
    "df_mis_srs = df_mis_srs[['DATE', 'ENTITY', 'DBU OBU', 'STATE', 'ORGANISATION CODE', 'RESP CENTER', 'DEAL_ID', 'AP_CODE', 'AP_NAME', 'SUB CODE', \n",
    "       'PROD_CODE', 'A/L/E', 'MGT ITEM', 'SOURCE_SYSTEM', 'p1', 'p2', 'p3', 'p4', '管控类型', '管控部门', '前中后台', 'P DEPT', 'CURRENCY', 'Original Amount', \n",
    "       'AUD Equivalent', 'yearly_average_balance_ori', 'yearly_average_balance_aud', 'monthly_average_balance_ori', 'monthly_average_balance_aud', 'Last mth end YTD-ORI', \n",
    "       'Last mth end YTD-AUD', 'Last year end YTD-ORI', 'Last year end YTD-AUD', 'Last year mth end YTD-ORI', 'Last year mth end YTD-AUD','Budget']]\n",
    "\n"
   ]
  },
  {
   "cell_type": "markdown",
   "metadata": {},
   "source": [
    "# Mapping RT30_RT32"
   ]
  },
  {
   "cell_type": "code",
   "execution_count": null,
   "metadata": {},
   "outputs": [],
   "source": [
    "yaml_file = '../config/RT30_RT32.yaml'\n",
    "mapper = ReportMapper(yaml_file)\n",
    "df_rt30_mapped = mapper.map_data(df_rt30_sql)\n",
    "rt30_logic = RT30RT32PostMapper(df_rt30_mapped, mapper)\n",
    "df_rt30_output = rt30_logic.pre_process()"
   ]
  },
  {
   "cell_type": "markdown",
   "metadata": {},
   "source": [
    "# Mapping MIS_SRS\n"
   ]
  },
  {
   "cell_type": "code",
   "execution_count": null,
   "metadata": {},
   "outputs": [],
   "source": [
    "yaml_file = '../config/MIS_SRS.yaml'\n",
    "mapper = ReportMapper(yaml_file)\n",
    "df_mis_srs_mapped = mapper.map_data(df_mis_srs)\n",
    "logic = MISSRSPostMapper(df_mis_srs_mapped)\n",
    "df_mis_output = logic.process_all()\n"
   ]
  },
  {
   "cell_type": "markdown",
   "metadata": {},
   "source": [
    "# Mapping RMD\n",
    "- 在RT30页面的AG列(rv_coa)筛选BLS-AST-LOANS-PLAIN和BLS-AST-LOANS-TF，并在AC列(rca_bookv)筛选非0数据后，将筛选后的X列(ide_linkage_ref)Paste至RMD页面的A列"
   ]
  },
  {
   "cell_type": "code",
   "execution_count": null,
   "metadata": {},
   "outputs": [],
   "source": [
    "# df_rmd = df_rt30_output[\n",
    "#     (df_rt30_output['rv_coa'].isin(['BLS-AST-LOANS-PLAIN', 'BLS-AST-LOANS-TF'])) & \n",
    "#     (df_rt30_output['rca_bookv'] != 0)]\\\n",
    "#         [['ide_linkage_ref','customer_nr','Vis-à-vis counterparty sector','ide_sourcesys_ref','rca_bookv','customer_legal_name','nationality','domicile']]\n"
   ]
  },
  {
   "cell_type": "code",
   "execution_count": null,
   "metadata": {},
   "outputs": [],
   "source": [
    "yaml_file = '../config/RMD.yaml'\n",
    "mapper = ReportMapper(yaml_file, reuse_mappings=False)\n",
    "df_rmd_mapped = mapper.map_data(df_rt30_output)\n",
    "\n",
    "logic = RMDPostMapper(df_rmd_mapped)\n",
    "df_rmd_output = logic.process_all()\n",
    "mapper.add_mapping('RMD', df_rmd_output)\n",
    "\n"
   ]
  },
  {
   "cell_type": "markdown",
   "metadata": {},
   "source": [
    "## Mapping Facility"
   ]
  },
  {
   "cell_type": "code",
   "execution_count": null,
   "metadata": {},
   "outputs": [],
   "source": [
    "df_facility_sql"
   ]
  },
  {
   "cell_type": "code",
   "execution_count": null,
   "metadata": {},
   "outputs": [],
   "source": [
    "yaml_file = '../config/Facility.yaml'\n",
    "mapper = ReportMapper(yaml_file)\n",
    "mapper.add_mapping('RMD', df_rmd_output)\n",
    "df_facility_sql['AP code'] = df_facility_sql.deal_type.str[-4:]\n",
    "df_facility_mapped = mapper.map_data(df_facility_sql)\n",
    "\n",
    "# add risk in \n",
    "df_rt30_outout = rt30_logic.post_process()"
   ]
  },
  {
   "cell_type": "code",
   "execution_count": null,
   "metadata": {},
   "outputs": [],
   "source": [
    "df_rt30_output[['Risk_in', 'Nationality','Vis-à-vis country', 'Risk Transfer']].to_clipboard(index=False)"
   ]
  },
  {
   "cell_type": "code",
   "execution_count": null,
   "metadata": {},
   "outputs": [],
   "source": [
    "from post_mapping import FacilityPostMapper\n",
    "logic = FacilityPostMapper(df_facility_mapped)\n",
    "df_facility_output = logic.process_all()"
   ]
  },
  {
   "cell_type": "markdown",
   "metadata": {},
   "source": [
    "# Validation\n"
   ]
  },
  {
   "cell_type": "code",
   "execution_count": null,
   "metadata": {},
   "outputs": [],
   "source": [
    "\n",
    "from validation import AGvsGL\n",
    "\n",
    "al_gl = AGvsGL(df_mis_output, df_rt30_output)\n",
    "df_algl = al_gl.process_all()"
   ]
  },
  {
   "cell_type": "code",
   "execution_count": null,
   "metadata": {},
   "outputs": [],
   "source": [
    "\n",
    "from validation import OBcheck\n",
    "\n",
    "obcheck = OBcheck(df_mis_output, df_facility_output, df_731b)\n",
    "df_ob_check = obcheck.process_all()"
   ]
  },
  {
   "cell_type": "code",
   "execution_count": null,
   "metadata": {},
   "outputs": [],
   "source": [
    "df_ob_check"
   ]
  },
  {
   "cell_type": "markdown",
   "metadata": {},
   "source": [
    "# Aggregation 731.1a and 731.1l\n"
   ]
  },
  {
   "cell_type": "code",
   "execution_count": null,
   "metadata": {},
   "outputs": [],
   "source": [
    "from aggregation import ReportAggregator731AL\n",
    "\n",
    "aggregator = ReportAggregator731AL(df_rt30_output)\n",
    "df_731a = aggregator.generate_731a(df_algl)\n",
    "df_731l = aggregator.generate_731l(df_algl)\n"
   ]
  },
  {
   "cell_type": "code",
   "execution_count": null,
   "metadata": {},
   "outputs": [],
   "source": [
    "yaml_file = '../config/RT30_RT32.yaml'\n",
    "mapper = ReportMapper(yaml_file)"
   ]
  },
  {
   "cell_type": "code",
   "execution_count": null,
   "metadata": {},
   "outputs": [],
   "source": [
    "from aggregation import ReportAggregator731B\n",
    "mapper.reload_mappings()\n",
    "aggregator = ReportAggregator731B(ReportMapper, df_rt30_output)\n",
    "df_731b = aggregator\\\n",
    "    .pre_ob_process(df_algl, df_facility_output)\n"
   ]
  },
  {
   "cell_type": "code",
   "execution_count": null,
   "metadata": {},
   "outputs": [],
   "source": [
    "def add_top_header(df, header, start=2):\n",
    "    multi_index = [('' if col not in df.columns[start:]\n",
    "                    else header, col) for col in df.columns]\n",
    "    df.columns = pd.MultiIndex.from_tuples(multi_index)"
   ]
  },
  {
   "cell_type": "code",
   "execution_count": null,
   "metadata": {},
   "outputs": [],
   "source": [
    "result = df_731b.result\n",
    "result['Part E']\n",
    "\n",
    "\n",
    "for k, v in result.items():\n",
    "    if k == \"Part A\":\n",
    "        add_top_header(v, k, 3)\n",
    "    else:\n",
    "        add_top_header(v, k)"
   ]
  },
  {
   "cell_type": "code",
   "execution_count": null,
   "metadata": {},
   "outputs": [],
   "source": [
    "df_731b.post_ob_process(df_ob_check)"
   ]
  },
  {
   "cell_type": "code",
   "execution_count": null,
   "metadata": {},
   "outputs": [],
   "source": [
    "df_731b.[post_ob_process()"
   ]
  },
  {
   "cell_type": "code",
   "execution_count": null,
   "metadata": {},
   "outputs": [],
   "source": [
    "multi_index = [('' if col not in a.columns[3:] else 'Part A', col) for col in a.columns]\n",
    "a.columns = pd.MultiIndex.from_tuples(multi_index)"
   ]
  },
  {
   "cell_type": "code",
   "execution_count": null,
   "metadata": {},
   "outputs": [],
   "source": [
    "def add_top_header(df, header, start=2):\n",
    "    multi_index = [('' if col not in df.columns[start:] else header , col) for col in df.columns]\n",
    "    df.columns = pd.MultiIndex.from_tuples(multi_index)"
   ]
  },
  {
   "cell_type": "code",
   "execution_count": null,
   "metadata": {},
   "outputs": [],
   "source": [
    "add_top_header(a, \"Part A\", 3)\n",
    "add_top_header(b, \"Part B\")"
   ]
  },
  {
   "cell_type": "code",
   "execution_count": null,
   "metadata": {},
   "outputs": [],
   "source": [
    "pd.concat([a, b], axis=1)"
   ]
  },
  {
   "cell_type": "code",
   "execution_count": null,
   "metadata": {},
   "outputs": [],
   "source": [
    "df_731b_e = df_731b_agg.get_part_e(df_facility_output)\n",
    "aggregator.post_ob_process(df_ob_check, df_731b_e)"
   ]
  },
  {
   "cell_type": "code",
   "execution_count": null,
   "metadata": {},
   "outputs": [],
   "source": [
    "df_ob_check"
   ]
  },
  {
   "cell_type": "code",
   "execution_count": null,
   "metadata": {},
   "outputs": [],
   "source": [
    "df_731b_e"
   ]
  },
  {
   "cell_type": "code",
   "execution_count": null,
   "metadata": {},
   "outputs": [],
   "source": [
    "df_731b_agg.get_part_b()"
   ]
  },
  {
   "cell_type": "code",
   "execution_count": null,
   "metadata": {},
   "outputs": [],
   "source": [
    "cols = ['<=3 mths', '3m-12m', '1y-2y', '2y-5y', '5y+', 'Maturity bucket Adjustment',\n",
    "       'Total', 'Unallocated']\n",
    "upper_level = ['Part a' for i in ]\n",
    "df.columns = pd.MultiIndex.from_tuples([(upper, col) if upper else (col, '') for upper, col in zip(upper_level, df.columns)])"
   ]
  },
  {
   "cell_type": "code",
   "execution_count": null,
   "metadata": {},
   "outputs": [],
   "source": [
    "df_731b = df_731b_d.post_ob_process(df_ob_check)"
   ]
  },
  {
   "cell_type": "code",
   "execution_count": null,
   "metadata": {},
   "outputs": [],
   "source": [
    "df_731b.columns"
   ]
  },
  {
   "cell_type": "code",
   "execution_count": null,
   "metadata": {},
   "outputs": [],
   "source": [
    "['Vis-à-vis country', 'Vis-à-vis country name', 'GL adj',, , \n",
    "       'Derivative contracts', 'Guarantees', 'Credit commitments',\n",
    "       'Guarantees adj']"
   ]
  },
  {
   "cell_type": "code",
   "execution_count": null,
   "metadata": {},
   "outputs": [],
   "source": [
    "{\n",
    "    'part a': ['<=3 mths','3m-12m', '1y-2y', '2y-5y', '5y+', \n",
    "               'Maturity bucket Adjustment','Total', 'Unallocated'],\n",
    "    'part b': ['Banking institutions', 'Central banks','General government', \n",
    "               'Non-banking financial institutions', 'Non-financial corporations', \n",
    "               'Households and non-profits', 'Total international claims', 'Check'],\n",
    "    'part c': ['Outward risk transfer','Inward risk transfer', \n",
    "               'Net transfer of risk to the ultimate borrower']\n",
    "    'part d': []\n",
    "}"
   ]
  },
  {
   "cell_type": "code",
   "execution_count": null,
   "metadata": {},
   "outputs": [],
   "source": [
    "df_731b2 = df_731b.post_ob_process(df_ob_check)"
   ]
  },
  {
   "cell_type": "code",
   "execution_count": null,
   "metadata": {},
   "outputs": [],
   "source": [
    "pd.DataFrame([None] * len(table1), columns=[\" \"])"
   ]
  },
  {
   "cell_type": "code",
   "execution_count": null,
   "metadata": {},
   "outputs": [],
   "source": []
  },
  {
   "cell_type": "code",
   "execution_count": null,
   "metadata": {},
   "outputs": [],
   "source": [
    "df_731b2"
   ]
  },
  {
   "cell_type": "code",
   "execution_count": null,
   "metadata": {},
   "outputs": [],
   "source": [
    "df_mis_agg = df_mis_output[df_mis_output['G'] == 'G']\\\n",
    "            .groupby(['CCY'])\\\n",
    "            .agg(Sum_AUD_Equivalent=('AUD Equivalent', 'sum'))"
   ]
  },
  {
   "cell_type": "code",
   "execution_count": null,
   "metadata": {},
   "outputs": [],
   "source": [
    "df_mis_agg['Sum_AUD_Equivalent'].sum(numeric_only=True)"
   ]
  },
  {
   "cell_type": "code",
   "execution_count": null,
   "metadata": {},
   "outputs": [],
   "source": [
    "df_rt30_output[['Risk_in', 'Nationality','Vis-à-vis country', 'Risk Transfer']].to_clipboard(index=False)"
   ]
  },
  {
   "cell_type": "code",
   "execution_count": null,
   "metadata": {},
   "outputs": [],
   "source": [
    "df_rt30_output[df_rt30_output.customer_nr.duplicated(keep=False)]"
   ]
  },
  {
   "cell_type": "code",
   "execution_count": null,
   "metadata": {},
   "outputs": [],
   "source": [
    "# Create your sample tables\n",
    "table1 = pd.DataFrame({\n",
    "    \"A\": [1, 2, 3],\n",
    "    \"B\": [4, 5, 6],\n",
    "    \"C\": [7, 8, 9]\n",
    "})\n",
    "\n",
    "table2 = pd.DataFrame({\n",
    "    \"D\": [\"a\", \"b\", \"c\"],\n",
    "    \"E\": [\"d\", \"e\", \"f\"],\n",
    "    \"F\": [\"g\", \"h\", \"i\"]\n",
    "})\n",
    "\n",
    "# Add a blank column to separate tables\n",
    "blank_column = pd.DataFrame([None] * len(table1), columns=[\" \"])\n",
    "\n",
    "# Combine tables into a single DataFrame\n",
    "combined = pd.concat([table1, blank_column, table2], axis=1)"
   ]
  },
  {
   "cell_type": "code",
   "execution_count": null,
   "metadata": {},
   "outputs": [],
   "source": [
    "combined.to_excel('test.xlsx', index=False)"
   ]
  },
  {
   "cell_type": "code",
   "execution_count": null,
   "metadata": {},
   "outputs": [],
   "source": [
    "df_731b[\n",
    "    df_731b['Vis-à-vis country'].notna() & df_731b['Vis-à-vis country'] != None\n",
    "]"
   ]
  },
  {
   "cell_type": "code",
   "execution_count": null,
   "metadata": {},
   "outputs": [],
   "source": [
    "rt30_agg2 = (df_rt30_output[\n",
    "    (df_rt30_output.ALE == 'A') &\n",
    "    (df_rt30_output.rv_mat_remaining > 1060000)]\n",
    "        .groupby('Vis-à-vis country')['rca_deferred_fee']\n",
    "        .sum()\n",
    "        .reset_index()\n",
    ")"
   ]
  },
  {
   "cell_type": "code",
   "execution_count": null,
   "metadata": {},
   "outputs": [],
   "source": [
    "def add_maturity_bucket_adjustment(self):\n",
    "        \n",
    "        rt30_filtered = - self.rt30[\n",
    "            (self.rt30['ALE'] == 'A') &\n",
    "            (self.rt30['rv_mat_remaining'] > 1060000)\n",
    "            ]\n",
    "        \n",
    "        rt30_agg = rt30_filtered\\\n",
    "            .groupby('Vis-à-vis country')\\\n",
    "            .agg(maturity_bucket_adjustment=('rca_bookv', 'sum'))\n",
    "        \n",
    "        self.output = self.output.merge(rt30_agg, on='Vis-à-vis country', how='left')\n",
    "        \n",
    "        return self"
   ]
  },
  {
   "cell_type": "code",
   "execution_count": null,
   "metadata": {},
   "outputs": [],
   "source": [
    "4360084491 -41711"
   ]
  },
  {
   "cell_type": "code",
   "execution_count": null,
   "metadata": {},
   "outputs": [],
   "source": [
    "base_mask = df_rt30_output['ALE'] == 'A'\n",
    "condition = (\n",
    "    (df_rt30_output['rv_mat_remaining_derived'] > 1000000) & \n",
    "    (df_rt30_output['rv_mat_remaining_derived'] <= 1003000)\n",
    ")\n",
    "# base_mask &= condition\n",
    "\n",
    "rt30_filtered = df_rt30_output[base_mask]"
   ]
  },
  {
   "cell_type": "code",
   "execution_count": null,
   "metadata": {},
   "outputs": [],
   "source": [
    "base_mask"
   ]
  },
  {
   "cell_type": "code",
   "execution_count": null,
   "metadata": {},
   "outputs": [],
   "source": [
    "rt30_agg = (rt30_filtered\n",
    "                    .groupby('Vis-à-vis country')\n",
    "                    .agg({\n",
    "                        'rca_bookv': 'sum',\n",
    "                        'rca_accrint': 'sum',\n",
    "                        'rca_deferred_fee': 'sum',\n",
    "                    })\n",
    "                    .reset_index()\n",
    ")\n",
    "\n",
    "sum_8754 = (\n",
    "            rt30_filtered[rt30_filtered['deal_type_derived'] == '8754']\n",
    "            .groupby('Vis-à-vis country')['rca_bookv']\n",
    "            .sum()\n",
    "            .reset_index()\n",
    "            .rename(columns={'rca_bookv': '8754_bookv'})\n",
    ")"
   ]
  },
  {
   "cell_type": "code",
   "execution_count": null,
   "metadata": {},
   "outputs": [],
   "source": [
    "result = rt30_agg.merge(sum_8754, on='Vis-à-vis country', how='left').fillna({'8754_bookv':0})"
   ]
  },
  {
   "cell_type": "code",
   "execution_count": null,
   "metadata": {},
   "outputs": [],
   "source": [
    "result['output'] = (\n",
    "            result['rca_bookv'] - \n",
    "            2 * result['8754_bookv'] - \n",
    "            result['rca_deferred_fee'] +\n",
    "            result['rca_accrint']\n",
    "        )"
   ]
  },
  {
   "cell_type": "code",
   "execution_count": null,
   "metadata": {},
   "outputs": [],
   "source": [
    "from validation import DervsGL\n",
    "\n",
    "derivs = DervsGL(mapper, df_rt30_outout, df_mis_output)\n",
    "rca_mtm = derivs.process_all()\n"
   ]
  },
  {
   "cell_type": "code",
   "execution_count": null,
   "metadata": {},
   "outputs": [],
   "source": [
    "rca_mtm['1'].loc[len(rca_mtm['1'])] = ' '"
   ]
  },
  {
   "cell_type": "code",
   "execution_count": null,
   "metadata": {},
   "outputs": [],
   "source": [
    "rca_mtm['1']"
   ]
  },
  {
   "cell_type": "code",
   "execution_count": null,
   "metadata": {},
   "outputs": [],
   "source": [
    "for k, v in rca_mtm.items():\n",
    "    v.loc[len(v)] = ''\n",
    "    "
   ]
  },
  {
   "cell_type": "code",
   "execution_count": null,
   "metadata": {},
   "outputs": [],
   "source": [
    "output = None \n",
    "\n",
    "for key, group in rca_mtm.groupby('group'):\n",
    "    total_row = pd.DataFrame([{'group': 'TOTAL','Diff': group['Diff'].sum()}])\n",
    "    blank_row = pd.DataFrame([{'group':None}])\n",
    "    output = pd.concat([output, group, total_row, blank_row])\n",
    "    "
   ]
  },
  {
   "cell_type": "code",
   "execution_count": null,
   "metadata": {},
   "outputs": [],
   "source": [
    "output.to_excel('test.xlsx', index=False)"
   ]
  },
  {
   "cell_type": "code",
   "execution_count": null,
   "metadata": {},
   "outputs": [],
   "source": [
    "pd.concat([group, total_row, pd.DataFrame([{'group':'1'}])])"
   ]
  },
  {
   "cell_type": "code",
   "execution_count": null,
   "metadata": {},
   "outputs": [],
   "source": []
  },
  {
   "cell_type": "code",
   "execution_count": null,
   "metadata": {},
   "outputs": [],
   "source": [
    "pd.concat([group, total_row, pd.DataFrame([{'核算码':None}])])"
   ]
  },
  {
   "cell_type": "code",
   "execution_count": null,
   "metadata": {},
   "outputs": [],
   "source": [
    "total_row = pd.DataFrame([{'group': 'TOTAL','Diff': group['Diff'].sum()}])\n",
    "\n",
    "pd.concat([group, total_row])"
   ]
  },
  {
   "cell_type": "markdown",
   "metadata": {},
   "source": [
    "# Database connection\n"
   ]
  },
  {
   "cell_type": "code",
   "execution_count": null,
   "metadata": {},
   "outputs": [],
   "source": [
    "from sqlalchemy import create_engine\n",
    "from queries import RT30_RT32_SQL\n",
    "\n",
    "with create_engine('mssql+pyodbc://DESKTOP-Q79EBHP/BOC?driver=ODBC+Driver+17+for+SQL+Server') as engine:\n",
    "    \n",
    "    df_rt30_rt32 = pd.read_sql(RT30_RT32_SQL, engine)\n"
   ]
  }
 ],
 "metadata": {
  "kernelspec": {
   "display_name": "base",
   "language": "python",
   "name": "python3"
  },
  "language_info": {
   "codemirror_mode": {
    "name": "ipython",
    "version": 3
   },
   "file_extension": ".py",
   "mimetype": "text/x-python",
   "name": "python",
   "nbconvert_exporter": "python",
   "pygments_lexer": "ipython3",
   "version": "3.12.7"
  }
 },
 "nbformat": 4,
 "nbformat_minor": 2
}
